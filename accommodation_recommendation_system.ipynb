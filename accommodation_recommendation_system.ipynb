{
 "cells": [
  {
   "cell_type": "code",
   "execution_count": 156,
   "metadata": {},
   "outputs": [],
   "source": [
    "import pandas as pd\n",
    "import category_encoders as ce\n",
    "import csv\n",
    "from xgboost import XGBClassifier\n",
    "import numpy as np\n",
    "from sklearn import *\n",
    "from sklearn.metrics import accuracy_score\n",
    "from sklearn.utils import shuffle\n",
    "import matplotlib.pyplot as plt\n",
    "from sklearn.model_selection import StratifiedKFold\n",
    "import category_encoders as ce\n",
    "import xgboost\n",
    "import collections\n",
    "pd.options.display.max_rows = 999\n",
    "from sklearn import preprocessing"
   ]
  },
  {
   "cell_type": "markdown",
   "metadata": {},
   "source": [
    "Importing some data"
   ]
  },
  {
   "cell_type": "code",
   "execution_count": 158,
   "metadata": {},
   "outputs": [],
   "source": [
    "path=\"D:/downloads/scoremouna.csv\""
   ]
  },
  {
   "cell_type": "code",
   "execution_count": 194,
   "metadata": {},
   "outputs": [],
   "source": [
    "train=pd.read_csv(path,sep=';')\n",
    "train[\"id\"]=np.array(range(train.shape[0]))"
   ]
  },
  {
   "cell_type": "code",
   "execution_count": 189,
   "metadata": {},
   "outputs": [
    {
     "data": {
      "text/plain": [
       "Index(['situation', 'nb_enfants', 'civilite', 'DN', 'STAT_PRO', 'Budget',\n",
       "       'taste', 'duration_in_days', 'target'],\n",
       "      dtype='object')"
      ]
     },
     "execution_count": 189,
     "metadata": {},
     "output_type": "execute_result"
    }
   ],
   "source": [
    "train.columns"
   ]
  },
  {
   "cell_type": "code",
   "execution_count": 163,
   "metadata": {},
   "outputs": [],
   "source": [
    "missing_columns=list(train.columns)\n",
    "missing_columns.remove(\"date_depot\")\n",
    "missing_columns.remove(\"campagne_id\")\n",
    "missing_columns.remove(\"id_organisme\")\n",
    "missing_columns.remove(\"prospects_id\")\n",
    "missing_columns.remove(\"SIGN\")\n",
    "missing_columns.remove(\"RESIL\")\n"
   ]
  },
  {
   "cell_type": "code",
   "execution_count": 164,
   "metadata": {},
   "outputs": [
    {
     "data": {
      "text/plain": [
       "['commerciaux_id',\n",
       " 'DN',\n",
       " 'situation',\n",
       " 'nb_enfants',\n",
       " 'civilite',\n",
       " 'code_dept',\n",
       " 'ville',\n",
       " 'longitude',\n",
       " 'latitude',\n",
       " 'STAT_PRO',\n",
       " 'ANNEE_NES_PROS',\n",
       " 'PROFESSION_PROS',\n",
       " 'RO_PROS',\n",
       " 'RO_CONJOINT',\n",
       " 'ANNEE_NAIS_CONJOINT',\n",
       " 'cmp',\n",
       " 'mca',\n",
       " 'nb_adh']"
      ]
     },
     "execution_count": 164,
     "metadata": {},
     "output_type": "execute_result"
    }
   ],
   "source": [
    "missing_columns"
   ]
  },
  {
   "cell_type": "code",
   "execution_count": 165,
   "metadata": {},
   "outputs": [],
   "source": [
    "for i in missing_columns:\n",
    "    train[i].fillna(train.loc[1,i],inplace=True)"
   ]
  },
  {
   "cell_type": "code",
   "execution_count": 186,
   "metadata": {},
   "outputs": [],
   "source": [
    "train[\"STAT_PRO\"].fillna(train.loc[15,\"STAT_PRO\"],inplace=True)\n"
   ]
  },
  {
   "cell_type": "code",
   "execution_count": 167,
   "metadata": {},
   "outputs": [],
   "source": [
    "train=train[['situation','nb_enfants','civilite','DN','STAT_PRO']].copy()"
   ]
  },
  {
   "cell_type": "markdown",
   "metadata": {},
   "source": [
    "Filling the dataframe with some synthetic data"
   ]
  },
  {
   "cell_type": "code",
   "execution_count": 168,
   "metadata": {},
   "outputs": [],
   "source": [
    "Budget=np.random.randint(low=0,high=1001,size=train.shape[0])\n",
    "taste=np.random.randint(low=0,high=2,size=train.shape[0])\n",
    "duration_in_days=np.random.randint(low=1,high=61,size=train.shape[0])\n",
    "\n"
   ]
  },
  {
   "cell_type": "code",
   "execution_count": 169,
   "metadata": {},
   "outputs": [],
   "source": [
    "train[\"Budget\"]=Budget\n",
    "train[\"taste\"]=taste\n",
    "train[\"duration_in_days\"]=duration_in_days"
   ]
  },
  {
   "cell_type": "code",
   "execution_count": 170,
   "metadata": {
    "scrolled": true
   },
   "outputs": [
    {
     "data": {
      "text/html": [
       "<div>\n",
       "<style scoped>\n",
       "    .dataframe tbody tr th:only-of-type {\n",
       "        vertical-align: middle;\n",
       "    }\n",
       "\n",
       "    .dataframe tbody tr th {\n",
       "        vertical-align: top;\n",
       "    }\n",
       "\n",
       "    .dataframe thead th {\n",
       "        text-align: right;\n",
       "    }\n",
       "</style>\n",
       "<table border=\"1\" class=\"dataframe\">\n",
       "  <thead>\n",
       "    <tr style=\"text-align: right;\">\n",
       "      <th></th>\n",
       "      <th>situation</th>\n",
       "      <th>nb_enfants</th>\n",
       "      <th>civilite</th>\n",
       "      <th>DN</th>\n",
       "      <th>STAT_PRO</th>\n",
       "      <th>Budget</th>\n",
       "      <th>taste</th>\n",
       "      <th>duration_in_days</th>\n",
       "    </tr>\n",
       "  </thead>\n",
       "  <tbody>\n",
       "    <tr>\n",
       "      <td>0</td>\n",
       "      <td>N.R</td>\n",
       "      <td>0.0</td>\n",
       "      <td>M.</td>\n",
       "      <td>1987.0</td>\n",
       "      <td>Sans emploi</td>\n",
       "      <td>961</td>\n",
       "      <td>1</td>\n",
       "      <td>21</td>\n",
       "    </tr>\n",
       "    <tr>\n",
       "      <td>1</td>\n",
       "      <td>N.R</td>\n",
       "      <td>0.0</td>\n",
       "      <td>Mme</td>\n",
       "      <td>1963.0</td>\n",
       "      <td>Sans emploi</td>\n",
       "      <td>810</td>\n",
       "      <td>0</td>\n",
       "      <td>53</td>\n",
       "    </tr>\n",
       "    <tr>\n",
       "      <td>2</td>\n",
       "      <td>N.R</td>\n",
       "      <td>0.0</td>\n",
       "      <td>Mme</td>\n",
       "      <td>1947.0</td>\n",
       "      <td>Retraité(e)</td>\n",
       "      <td>184</td>\n",
       "      <td>1</td>\n",
       "      <td>20</td>\n",
       "    </tr>\n",
       "    <tr>\n",
       "      <td>3</td>\n",
       "      <td>Celibataire</td>\n",
       "      <td>0.0</td>\n",
       "      <td>M.</td>\n",
       "      <td>1946.0</td>\n",
       "      <td>Retraité(e)</td>\n",
       "      <td>769</td>\n",
       "      <td>0</td>\n",
       "      <td>40</td>\n",
       "    </tr>\n",
       "    <tr>\n",
       "      <td>4</td>\n",
       "      <td>N.R</td>\n",
       "      <td>0.0</td>\n",
       "      <td>Mme</td>\n",
       "      <td>1947.0</td>\n",
       "      <td>Retraité(e)</td>\n",
       "      <td>904</td>\n",
       "      <td>1</td>\n",
       "      <td>52</td>\n",
       "    </tr>\n",
       "    <tr>\n",
       "      <td>...</td>\n",
       "      <td>...</td>\n",
       "      <td>...</td>\n",
       "      <td>...</td>\n",
       "      <td>...</td>\n",
       "      <td>...</td>\n",
       "      <td>...</td>\n",
       "      <td>...</td>\n",
       "      <td>...</td>\n",
       "    </tr>\n",
       "    <tr>\n",
       "      <td>80726</td>\n",
       "      <td>Marie(e)</td>\n",
       "      <td>0.0</td>\n",
       "      <td>M.</td>\n",
       "      <td>1996.0</td>\n",
       "      <td>Salarié(e) du privé  (-55 ans)   en CDI</td>\n",
       "      <td>328</td>\n",
       "      <td>1</td>\n",
       "      <td>36</td>\n",
       "    </tr>\n",
       "    <tr>\n",
       "      <td>80727</td>\n",
       "      <td>N.R</td>\n",
       "      <td>0.0</td>\n",
       "      <td>M.</td>\n",
       "      <td>1929.0</td>\n",
       "      <td>Retraité(e)</td>\n",
       "      <td>299</td>\n",
       "      <td>0</td>\n",
       "      <td>40</td>\n",
       "    </tr>\n",
       "    <tr>\n",
       "      <td>80728</td>\n",
       "      <td>N.R</td>\n",
       "      <td>0.0</td>\n",
       "      <td>Mme</td>\n",
       "      <td>1929.0</td>\n",
       "      <td>Retraité(e)</td>\n",
       "      <td>823</td>\n",
       "      <td>0</td>\n",
       "      <td>6</td>\n",
       "    </tr>\n",
       "    <tr>\n",
       "      <td>80729</td>\n",
       "      <td>N.R</td>\n",
       "      <td>0.0</td>\n",
       "      <td>M.</td>\n",
       "      <td>1995.0</td>\n",
       "      <td>Salarié(e) du privé  (-55 ans)   en CDI</td>\n",
       "      <td>792</td>\n",
       "      <td>0</td>\n",
       "      <td>29</td>\n",
       "    </tr>\n",
       "    <tr>\n",
       "      <td>80730</td>\n",
       "      <td>Celibataire</td>\n",
       "      <td>0.0</td>\n",
       "      <td>Mme</td>\n",
       "      <td>1958.0</td>\n",
       "      <td>Profession libérale</td>\n",
       "      <td>67</td>\n",
       "      <td>0</td>\n",
       "      <td>16</td>\n",
       "    </tr>\n",
       "  </tbody>\n",
       "</table>\n",
       "<p>80731 rows × 8 columns</p>\n",
       "</div>"
      ],
      "text/plain": [
       "         situation  nb_enfants civilite      DN  \\\n",
       "0              N.R         0.0       M.  1987.0   \n",
       "1              N.R         0.0      Mme  1963.0   \n",
       "2              N.R         0.0      Mme  1947.0   \n",
       "3      Celibataire         0.0       M.  1946.0   \n",
       "4              N.R         0.0      Mme  1947.0   \n",
       "...            ...         ...      ...     ...   \n",
       "80726     Marie(e)         0.0       M.  1996.0   \n",
       "80727          N.R         0.0       M.  1929.0   \n",
       "80728          N.R         0.0      Mme  1929.0   \n",
       "80729          N.R         0.0       M.  1995.0   \n",
       "80730  Celibataire         0.0      Mme  1958.0   \n",
       "\n",
       "                                       STAT_PRO  Budget  taste  \\\n",
       "0                                   Sans emploi     961      1   \n",
       "1                                   Sans emploi     810      0   \n",
       "2                                   Retraité(e)     184      1   \n",
       "3                                   Retraité(e)     769      0   \n",
       "4                                   Retraité(e)     904      1   \n",
       "...                                         ...     ...    ...   \n",
       "80726  Salarié(e) du privé  (-55 ans)   en CDI      328      1   \n",
       "80727                               Retraité(e)     299      0   \n",
       "80728                               Retraité(e)     823      0   \n",
       "80729  Salarié(e) du privé  (-55 ans)   en CDI      792      0   \n",
       "80730                       Profession libérale      67      0   \n",
       "\n",
       "       duration_in_days  \n",
       "0                    21  \n",
       "1                    53  \n",
       "2                    20  \n",
       "3                    40  \n",
       "4                    52  \n",
       "...                 ...  \n",
       "80726                36  \n",
       "80727                40  \n",
       "80728                 6  \n",
       "80729                29  \n",
       "80730                16  \n",
       "\n",
       "[80731 rows x 8 columns]"
      ]
     },
     "execution_count": 170,
     "metadata": {},
     "output_type": "execute_result"
    }
   ],
   "source": [
    "train"
   ]
  },
  {
   "cell_type": "code",
   "execution_count": 171,
   "metadata": {},
   "outputs": [],
   "source": [
    "train.DN=train.DN*0.1\n",
    "train.DN=train.DN.round()\n",
    "train.DN=train.DN*10\n",
    "train.DN=train.DN.astype(int)"
   ]
  },
  {
   "cell_type": "code",
   "execution_count": 172,
   "metadata": {},
   "outputs": [
    {
     "data": {
      "text/html": [
       "<div>\n",
       "<style scoped>\n",
       "    .dataframe tbody tr th:only-of-type {\n",
       "        vertical-align: middle;\n",
       "    }\n",
       "\n",
       "    .dataframe tbody tr th {\n",
       "        vertical-align: top;\n",
       "    }\n",
       "\n",
       "    .dataframe thead th {\n",
       "        text-align: right;\n",
       "    }\n",
       "</style>\n",
       "<table border=\"1\" class=\"dataframe\">\n",
       "  <thead>\n",
       "    <tr style=\"text-align: right;\">\n",
       "      <th></th>\n",
       "      <th>situation</th>\n",
       "      <th>nb_enfants</th>\n",
       "      <th>civilite</th>\n",
       "      <th>DN</th>\n",
       "      <th>STAT_PRO</th>\n",
       "      <th>Budget</th>\n",
       "      <th>taste</th>\n",
       "      <th>duration_in_days</th>\n",
       "    </tr>\n",
       "  </thead>\n",
       "  <tbody>\n",
       "    <tr>\n",
       "      <td>0</td>\n",
       "      <td>N.R</td>\n",
       "      <td>0.0</td>\n",
       "      <td>M.</td>\n",
       "      <td>1990</td>\n",
       "      <td>Sans emploi</td>\n",
       "      <td>961</td>\n",
       "      <td>1</td>\n",
       "      <td>21</td>\n",
       "    </tr>\n",
       "    <tr>\n",
       "      <td>1</td>\n",
       "      <td>N.R</td>\n",
       "      <td>0.0</td>\n",
       "      <td>Mme</td>\n",
       "      <td>1960</td>\n",
       "      <td>Sans emploi</td>\n",
       "      <td>810</td>\n",
       "      <td>0</td>\n",
       "      <td>53</td>\n",
       "    </tr>\n",
       "    <tr>\n",
       "      <td>2</td>\n",
       "      <td>N.R</td>\n",
       "      <td>0.0</td>\n",
       "      <td>Mme</td>\n",
       "      <td>1950</td>\n",
       "      <td>Retraité(e)</td>\n",
       "      <td>184</td>\n",
       "      <td>1</td>\n",
       "      <td>20</td>\n",
       "    </tr>\n",
       "    <tr>\n",
       "      <td>3</td>\n",
       "      <td>Celibataire</td>\n",
       "      <td>0.0</td>\n",
       "      <td>M.</td>\n",
       "      <td>1950</td>\n",
       "      <td>Retraité(e)</td>\n",
       "      <td>769</td>\n",
       "      <td>0</td>\n",
       "      <td>40</td>\n",
       "    </tr>\n",
       "    <tr>\n",
       "      <td>4</td>\n",
       "      <td>N.R</td>\n",
       "      <td>0.0</td>\n",
       "      <td>Mme</td>\n",
       "      <td>1950</td>\n",
       "      <td>Retraité(e)</td>\n",
       "      <td>904</td>\n",
       "      <td>1</td>\n",
       "      <td>52</td>\n",
       "    </tr>\n",
       "    <tr>\n",
       "      <td>...</td>\n",
       "      <td>...</td>\n",
       "      <td>...</td>\n",
       "      <td>...</td>\n",
       "      <td>...</td>\n",
       "      <td>...</td>\n",
       "      <td>...</td>\n",
       "      <td>...</td>\n",
       "      <td>...</td>\n",
       "    </tr>\n",
       "    <tr>\n",
       "      <td>80726</td>\n",
       "      <td>Marie(e)</td>\n",
       "      <td>0.0</td>\n",
       "      <td>M.</td>\n",
       "      <td>2000</td>\n",
       "      <td>Salarié(e) du privé  (-55 ans)   en CDI</td>\n",
       "      <td>328</td>\n",
       "      <td>1</td>\n",
       "      <td>36</td>\n",
       "    </tr>\n",
       "    <tr>\n",
       "      <td>80727</td>\n",
       "      <td>N.R</td>\n",
       "      <td>0.0</td>\n",
       "      <td>M.</td>\n",
       "      <td>1930</td>\n",
       "      <td>Retraité(e)</td>\n",
       "      <td>299</td>\n",
       "      <td>0</td>\n",
       "      <td>40</td>\n",
       "    </tr>\n",
       "    <tr>\n",
       "      <td>80728</td>\n",
       "      <td>N.R</td>\n",
       "      <td>0.0</td>\n",
       "      <td>Mme</td>\n",
       "      <td>1930</td>\n",
       "      <td>Retraité(e)</td>\n",
       "      <td>823</td>\n",
       "      <td>0</td>\n",
       "      <td>6</td>\n",
       "    </tr>\n",
       "    <tr>\n",
       "      <td>80729</td>\n",
       "      <td>N.R</td>\n",
       "      <td>0.0</td>\n",
       "      <td>M.</td>\n",
       "      <td>2000</td>\n",
       "      <td>Salarié(e) du privé  (-55 ans)   en CDI</td>\n",
       "      <td>792</td>\n",
       "      <td>0</td>\n",
       "      <td>29</td>\n",
       "    </tr>\n",
       "    <tr>\n",
       "      <td>80730</td>\n",
       "      <td>Celibataire</td>\n",
       "      <td>0.0</td>\n",
       "      <td>Mme</td>\n",
       "      <td>1960</td>\n",
       "      <td>Profession libérale</td>\n",
       "      <td>67</td>\n",
       "      <td>0</td>\n",
       "      <td>16</td>\n",
       "    </tr>\n",
       "  </tbody>\n",
       "</table>\n",
       "<p>80731 rows × 8 columns</p>\n",
       "</div>"
      ],
      "text/plain": [
       "         situation  nb_enfants civilite    DN  \\\n",
       "0              N.R         0.0       M.  1990   \n",
       "1              N.R         0.0      Mme  1960   \n",
       "2              N.R         0.0      Mme  1950   \n",
       "3      Celibataire         0.0       M.  1950   \n",
       "4              N.R         0.0      Mme  1950   \n",
       "...            ...         ...      ...   ...   \n",
       "80726     Marie(e)         0.0       M.  2000   \n",
       "80727          N.R         0.0       M.  1930   \n",
       "80728          N.R         0.0      Mme  1930   \n",
       "80729          N.R         0.0       M.  2000   \n",
       "80730  Celibataire         0.0      Mme  1960   \n",
       "\n",
       "                                       STAT_PRO  Budget  taste  \\\n",
       "0                                   Sans emploi     961      1   \n",
       "1                                   Sans emploi     810      0   \n",
       "2                                   Retraité(e)     184      1   \n",
       "3                                   Retraité(e)     769      0   \n",
       "4                                   Retraité(e)     904      1   \n",
       "...                                         ...     ...    ...   \n",
       "80726  Salarié(e) du privé  (-55 ans)   en CDI      328      1   \n",
       "80727                               Retraité(e)     299      0   \n",
       "80728                               Retraité(e)     823      0   \n",
       "80729  Salarié(e) du privé  (-55 ans)   en CDI      792      0   \n",
       "80730                       Profession libérale      67      0   \n",
       "\n",
       "       duration_in_days  \n",
       "0                    21  \n",
       "1                    53  \n",
       "2                    20  \n",
       "3                    40  \n",
       "4                    52  \n",
       "...                 ...  \n",
       "80726                36  \n",
       "80727                40  \n",
       "80728                 6  \n",
       "80729                29  \n",
       "80730                16  \n",
       "\n",
       "[80731 rows x 8 columns]"
      ]
     },
     "execution_count": 172,
     "metadata": {},
     "output_type": "execute_result"
    }
   ],
   "source": [
    "train"
   ]
  },
  {
   "cell_type": "code",
   "execution_count": 173,
   "metadata": {},
   "outputs": [],
   "source": [
    "Budget_rounded=train.Budget.values\n",
    "Budget_rounded=Budget_rounded*0.01\n",
    "Budget_rounded=np.where(Budget_rounded<1,1,Budget_rounded)\n",
    "Budget_rounded=Budget_rounded.round()\n",
    "Budget_rounded=Budget_rounded*100\n",
    "train.Budget=Budget_rounded"
   ]
  },
  {
   "cell_type": "code",
   "execution_count": 174,
   "metadata": {},
   "outputs": [
    {
     "data": {
      "text/plain": [
       "0        1000.0\n",
       "1         800.0\n",
       "2         200.0\n",
       "3         800.0\n",
       "4         900.0\n",
       "          ...  \n",
       "80726     300.0\n",
       "80727     300.0\n",
       "80728     800.0\n",
       "80729     800.0\n",
       "80730     100.0\n",
       "Name: Budget, Length: 80731, dtype: float64"
      ]
     },
     "execution_count": 174,
     "metadata": {},
     "output_type": "execute_result"
    }
   ],
   "source": [
    "train.Budget"
   ]
  },
  {
   "cell_type": "code",
   "execution_count": null,
   "metadata": {
    "scrolled": true
   },
   "outputs": [],
   "source": []
  },
  {
   "cell_type": "code",
   "execution_count": 175,
   "metadata": {},
   "outputs": [],
   "source": [
    "Y_train=np.random.randint(low=0,high=21,size=train.shape[0])\n",
    "Y_train=pd.DataFrame(data=Y_train)\n",
    "train[\"target\"]=Y_train"
   ]
  },
  {
   "cell_type": "code",
   "execution_count": 176,
   "metadata": {},
   "outputs": [],
   "source": [
    "encoder=ce.OrdinalEncoder()\n",
    "encoder.fit(train)\n",
    "X_train=encoder.transform(train)"
   ]
  },
  {
   "cell_type": "code",
   "execution_count": 177,
   "metadata": {},
   "outputs": [],
   "source": [
    "model = XGBClassifier(max_depth=7,colsample_bytree=0.5,min_child_weight=2,\n",
    "                      learning_rate=0.05,objective = \"multi:softprob\",n_estimators=148)"
   ]
  },
  {
   "cell_type": "markdown",
   "metadata": {},
   "source": [
    "Generating some predictions to demonstrate the feasibility of the idea. No tuning was done since this is a synthetic data."
   ]
  },
  {
   "cell_type": "code",
   "execution_count": 180,
   "metadata": {
    "scrolled": true
   },
   "outputs": [
    {
     "name": "stderr",
     "output_type": "stream",
     "text": [
      "D:\\Anaconda3\\envs\\V02 With Keras\\lib\\site-packages\\sklearn\\preprocessing\\label.py:219: DataConversionWarning: A column-vector y was passed when a 1d array was expected. Please change the shape of y to (n_samples, ), for example using ravel().\n",
      "  y = column_or_1d(y, warn=True)\n",
      "D:\\Anaconda3\\envs\\V02 With Keras\\lib\\site-packages\\sklearn\\preprocessing\\label.py:252: DataConversionWarning: A column-vector y was passed when a 1d array was expected. Please change the shape of y to (n_samples, ), for example using ravel().\n",
      "  y = column_or_1d(y, warn=True)\n"
     ]
    }
   ],
   "source": [
    "from sklearn.model_selection import train_test_split\n",
    "x_train, x_test, y_train, y_test = train_test_split(X_train, Y_train, test_size=0.2)\n",
    "model.fit(x_train,y_train)\n",
    "ypred=model.predict(x_test)\n"
   ]
  },
  {
   "cell_type": "markdown",
   "metadata": {},
   "source": [
    "Printing some predictions"
   ]
  },
  {
   "cell_type": "code",
   "execution_count": 198,
   "metadata": {},
   "outputs": [],
   "source": [
    "x_test_indexes=x_test.index\n"
   ]
  },
  {
   "cell_type": "code",
   "execution_count": 201,
   "metadata": {},
   "outputs": [
    {
     "name": "stdout",
     "output_type": "stream",
     "text": [
      "user id 37239 : value of the target: 4\n",
      "user id 11511 : value of the target: 12\n",
      "user id 12380 : value of the target: 6\n",
      "user id 69038 : value of the target: 5\n"
     ]
    }
   ],
   "source": [
    "print(\"user id {} : value of the target: {}\".format(x_test_indexes[0],ypred[0]))\n",
    "print(\"user id {} : value of the target: {}\".format(x_test_indexes[1],ypred[1]))\n",
    "print(\"user id {} : value of the target: {}\".format(x_test_indexes[2],ypred[2]))\n",
    "print(\"user id {} : value of the target: {}\".format(x_test_indexes[3],ypred[3]))"
   ]
  }
 ],
 "metadata": {
  "kernelspec": {
   "display_name": "Python 3",
   "language": "python",
   "name": "python3"
  },
  "language_info": {
   "codemirror_mode": {
    "name": "ipython",
    "version": 3
   },
   "file_extension": ".py",
   "mimetype": "text/x-python",
   "name": "python",
   "nbconvert_exporter": "python",
   "pygments_lexer": "ipython3",
   "version": "3.6.8"
  }
 },
 "nbformat": 4,
 "nbformat_minor": 2
}
